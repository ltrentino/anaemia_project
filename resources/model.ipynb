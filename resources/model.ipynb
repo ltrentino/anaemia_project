{
 "cells": [
  {
   "cell_type": "code",
   "execution_count": 1,
   "metadata": {},
   "outputs": [],
   "source": [
    "import pandas as pd \n",
    "import datetime as dt\n",
    "import pickle\n",
    "%matplotlib inline\n",
    "import matplotlib.pyplot as plt\n",
    "import numpy as np\n"
   ]
  },
  {
   "cell_type": "code",
   "execution_count": 2,
   "metadata": {},
   "outputs": [
    {
     "name": "stderr",
     "output_type": "stream",
     "text": [
      "C:\\Users\\Laura\\anaconda3\\envs\\pythondata2\\lib\\site-packages\\ipykernel_launcher.py:1: FutureWarning: The pandas.datetime class is deprecated and will be removed from pandas in a future version. Import from datetime module instead.\n",
      "  \"\"\"Entry point for launching an IPython kernel.\n"
     ]
    }
   ],
   "source": [
    "from pandas import datetime\n",
    "from pandas import read_csv\n",
    "from pandas import DataFrame\n",
    "from statsmodels.tsa.arima.model import ARIMA\n",
    "from matplotlib import pyplot, figure"
   ]
  },
  {
   "cell_type": "code",
   "execution_count": 3,
   "metadata": {},
   "outputs": [],
   "source": [
    "df = pd.read_csv(\"anaemia.csv\")\n"
   ]
  },
  {
   "cell_type": "code",
   "execution_count": 4,
   "metadata": {},
   "outputs": [],
   "source": [
    "countries = df[\"Country_name\"].unique()"
   ]
  },
  {
   "cell_type": "code",
   "execution_count": 75,
   "metadata": {},
   "outputs": [],
   "source": [
    "# list of top 60 countries by population (worldometer.com)\n",
    "top_50_countries = [\n",
    "    \"China\",\n",
    "    \"India\",\n",
    "    \"United States of America\",\n",
    "    \"Indonesia\",\n",
    "    \"Pakistan\",\n",
    "    \"Brazil\",\n",
    "    \"Nigeria\",\n",
    "    \"Bangladesh\",\n",
    "    \"Russian Federation\",\n",
    "    \"Mexico\",\n",
    "    \"Japan\",\n",
    "    \"Ethiopia\",\n",
    "    \"Philippines\",\n",
    "    \"Egypt\",\n",
    "    \"Viet Nam\",\n",
    "    \"Democratic Republic of the Congo\",\n",
    "    \"Iran (Islamic Republic of)\",\n",
    "    \"Germany\",\n",
    "    \"Thailand\",\n",
    "    \"United Kingdom of Great Britain and Northern Ireland\",\n",
    "    \"France\",\n",
    "    \"Italy\",\n",
    "    \"United Republic of Tanzania\",\n",
    "    \"South Africa\",\n",
    "    \"Myanmar\",\n",
    "    \"Kenya\",\n",
    "    \"Republic of Korea\",\n",
    "    \"Colombia\",\n",
    "    \"Spain\",\n",
    "    \"Uganda\",\n",
    "    \"Argentina\",\n",
    "    \"Algeria\",\n",
    "    \"Sudan\",\n",
    "    \"Ukraine\",\n",
    "    \"Iraq\",\n",
    "    \"Afghanistan\",\n",
    "    \"Canada\",\n",
    "    \"Morocco\",\n",
    "    \"Saudi Arabia\",\n",
    "    \"Uzbekistan\",\n",
    "    \"Peru\",\n",
    "    \"Malaysia\",\n",
    "    \"Mozambique\",\n",
    "    \"Ghana\",\n",
    "    \"Nepal\",\n",
    "    \"Venezuela (Bolivarian Republic of)\",\n",
    "    \"Madagascar\",\n",
    "    \"Cameroon\",\n",
    "    \"Côte d'Ivoire\",\n",
    "    \"Australia\"\n",
    "]"
   ]
  },
  {
   "cell_type": "code",
   "execution_count": 76,
   "metadata": {},
   "outputs": [],
   "source": [
    "####### LOOP THROUGH EACH COUNTRY WITH THE ARIMA MODEL AND APPEND THE FORECAST DATA TO A NEW DF ###########"
   ]
  },
  {
   "cell_type": "code",
   "execution_count": 86,
   "metadata": {},
   "outputs": [],
   "source": [
    "test_appended_df = pd.DataFrame()"
   ]
  },
  {
   "cell_type": "code",
   "execution_count": 87,
   "metadata": {},
   "outputs": [
    {
     "name": "stdout",
     "output_type": "stream",
     "text": [
      "China\n",
      "India\n",
      "United States of America\n"
     ]
    },
    {
     "name": "stderr",
     "output_type": "stream",
     "text": [
      "C:\\Users\\Laura\\anaconda3\\envs\\pythondata2\\lib\\site-packages\\statsmodels\\tsa\\base\\tsa_model.py:471: ValueWarning: No frequency information was provided, so inferred frequency AS-JAN will be used.\n",
      "  self._init_dates(dates, freq)\n",
      "C:\\Users\\Laura\\anaconda3\\envs\\pythondata2\\lib\\site-packages\\statsmodels\\tsa\\base\\tsa_model.py:471: ValueWarning: No frequency information was provided, so inferred frequency AS-JAN will be used.\n",
      "  self._init_dates(dates, freq)\n",
      "C:\\Users\\Laura\\anaconda3\\envs\\pythondata2\\lib\\site-packages\\statsmodels\\tsa\\base\\tsa_model.py:471: ValueWarning: No frequency information was provided, so inferred frequency AS-JAN will be used.\n",
      "  self._init_dates(dates, freq)\n",
      "C:\\Users\\Laura\\anaconda3\\envs\\pythondata2\\lib\\site-packages\\statsmodels\\tsa\\base\\tsa_model.py:471: ValueWarning: No frequency information was provided, so inferred frequency AS-JAN will be used.\n",
      "  self._init_dates(dates, freq)\n",
      "C:\\Users\\Laura\\anaconda3\\envs\\pythondata2\\lib\\site-packages\\statsmodels\\tsa\\base\\tsa_model.py:471: ValueWarning: No frequency information was provided, so inferred frequency AS-JAN will be used.\n",
      "  self._init_dates(dates, freq)\n",
      "C:\\Users\\Laura\\anaconda3\\envs\\pythondata2\\lib\\site-packages\\statsmodels\\tsa\\base\\tsa_model.py:471: ValueWarning: No frequency information was provided, so inferred frequency AS-JAN will be used.\n",
      "  self._init_dates(dates, freq)\n",
      "C:\\Users\\Laura\\anaconda3\\envs\\pythondata2\\lib\\site-packages\\statsmodels\\tsa\\base\\tsa_model.py:471: ValueWarning: No frequency information was provided, so inferred frequency AS-JAN will be used.\n",
      "  self._init_dates(dates, freq)\n",
      "C:\\Users\\Laura\\anaconda3\\envs\\pythondata2\\lib\\site-packages\\statsmodels\\tsa\\base\\tsa_model.py:471: ValueWarning: No frequency information was provided, so inferred frequency AS-JAN will be used.\n",
      "  self._init_dates(dates, freq)\n",
      "C:\\Users\\Laura\\anaconda3\\envs\\pythondata2\\lib\\site-packages\\statsmodels\\tsa\\base\\tsa_model.py:471: ValueWarning: No frequency information was provided, so inferred frequency AS-JAN will be used.\n",
      "  self._init_dates(dates, freq)\n",
      "C:\\Users\\Laura\\anaconda3\\envs\\pythondata2\\lib\\site-packages\\statsmodels\\tsa\\statespace\\sarimax.py:966: UserWarning: Non-stationary starting autoregressive parameters found. Using zeros as starting parameters.\n",
      "  warn('Non-stationary starting autoregressive parameters'\n",
      "C:\\Users\\Laura\\anaconda3\\envs\\pythondata2\\lib\\site-packages\\statsmodels\\tsa\\base\\tsa_model.py:471: ValueWarning: No frequency information was provided, so inferred frequency AS-JAN will be used.\n",
      "  self._init_dates(dates, freq)\n",
      "C:\\Users\\Laura\\anaconda3\\envs\\pythondata2\\lib\\site-packages\\statsmodels\\tsa\\base\\tsa_model.py:471: ValueWarning: No frequency information was provided, so inferred frequency AS-JAN will be used.\n",
      "  self._init_dates(dates, freq)\n",
      "C:\\Users\\Laura\\anaconda3\\envs\\pythondata2\\lib\\site-packages\\statsmodels\\tsa\\base\\tsa_model.py:471: ValueWarning: No frequency information was provided, so inferred frequency AS-JAN will be used.\n",
      "  self._init_dates(dates, freq)\n",
      "C:\\Users\\Laura\\anaconda3\\envs\\pythondata2\\lib\\site-packages\\statsmodels\\tsa\\base\\tsa_model.py:471: ValueWarning: No frequency information was provided, so inferred frequency AS-JAN will be used.\n",
      "  self._init_dates(dates, freq)\n",
      "C:\\Users\\Laura\\anaconda3\\envs\\pythondata2\\lib\\site-packages\\statsmodels\\tsa\\base\\tsa_model.py:471: ValueWarning: No frequency information was provided, so inferred frequency AS-JAN will be used.\n",
      "  self._init_dates(dates, freq)\n",
      "C:\\Users\\Laura\\anaconda3\\envs\\pythondata2\\lib\\site-packages\\statsmodels\\tsa\\base\\tsa_model.py:471: ValueWarning: No frequency information was provided, so inferred frequency AS-JAN will be used.\n",
      "  self._init_dates(dates, freq)\n",
      "C:\\Users\\Laura\\anaconda3\\envs\\pythondata2\\lib\\site-packages\\statsmodels\\tsa\\base\\tsa_model.py:471: ValueWarning: No frequency information was provided, so inferred frequency AS-JAN will be used.\n",
      "  self._init_dates(dates, freq)\n",
      "C:\\Users\\Laura\\anaconda3\\envs\\pythondata2\\lib\\site-packages\\statsmodels\\tsa\\base\\tsa_model.py:471: ValueWarning: No frequency information was provided, so inferred frequency AS-JAN will be used.\n",
      "  self._init_dates(dates, freq)\n",
      "C:\\Users\\Laura\\anaconda3\\envs\\pythondata2\\lib\\site-packages\\statsmodels\\tsa\\base\\tsa_model.py:471: ValueWarning: No frequency information was provided, so inferred frequency AS-JAN will be used.\n",
      "  self._init_dates(dates, freq)\n"
     ]
    },
    {
     "name": "stdout",
     "output_type": "stream",
     "text": [
      "Indonesia\n",
      "Pakistan\n",
      "Brazil\n",
      "Nigeria\n"
     ]
    },
    {
     "name": "stderr",
     "output_type": "stream",
     "text": [
      "C:\\Users\\Laura\\anaconda3\\envs\\pythondata2\\lib\\site-packages\\statsmodels\\tsa\\base\\tsa_model.py:471: ValueWarning: No frequency information was provided, so inferred frequency AS-JAN will be used.\n",
      "  self._init_dates(dates, freq)\n",
      "C:\\Users\\Laura\\anaconda3\\envs\\pythondata2\\lib\\site-packages\\statsmodels\\tsa\\base\\tsa_model.py:471: ValueWarning: No frequency information was provided, so inferred frequency AS-JAN will be used.\n",
      "  self._init_dates(dates, freq)\n",
      "C:\\Users\\Laura\\anaconda3\\envs\\pythondata2\\lib\\site-packages\\statsmodels\\tsa\\base\\tsa_model.py:471: ValueWarning: No frequency information was provided, so inferred frequency AS-JAN will be used.\n",
      "  self._init_dates(dates, freq)\n",
      "C:\\Users\\Laura\\anaconda3\\envs\\pythondata2\\lib\\site-packages\\statsmodels\\tsa\\base\\tsa_model.py:471: ValueWarning: No frequency information was provided, so inferred frequency AS-JAN will be used.\n",
      "  self._init_dates(dates, freq)\n",
      "C:\\Users\\Laura\\anaconda3\\envs\\pythondata2\\lib\\site-packages\\statsmodels\\tsa\\base\\tsa_model.py:471: ValueWarning: No frequency information was provided, so inferred frequency AS-JAN will be used.\n",
      "  self._init_dates(dates, freq)\n",
      "C:\\Users\\Laura\\anaconda3\\envs\\pythondata2\\lib\\site-packages\\statsmodels\\tsa\\base\\tsa_model.py:471: ValueWarning: No frequency information was provided, so inferred frequency AS-JAN will be used.\n",
      "  self._init_dates(dates, freq)\n",
      "C:\\Users\\Laura\\anaconda3\\envs\\pythondata2\\lib\\site-packages\\statsmodels\\tsa\\base\\tsa_model.py:471: ValueWarning: No frequency information was provided, so inferred frequency AS-JAN will be used.\n",
      "  self._init_dates(dates, freq)\n",
      "C:\\Users\\Laura\\anaconda3\\envs\\pythondata2\\lib\\site-packages\\statsmodels\\tsa\\base\\tsa_model.py:471: ValueWarning: No frequency information was provided, so inferred frequency AS-JAN will be used.\n",
      "  self._init_dates(dates, freq)\n",
      "C:\\Users\\Laura\\anaconda3\\envs\\pythondata2\\lib\\site-packages\\statsmodels\\tsa\\base\\tsa_model.py:471: ValueWarning: No frequency information was provided, so inferred frequency AS-JAN will be used.\n",
      "  self._init_dates(dates, freq)\n",
      "C:\\Users\\Laura\\anaconda3\\envs\\pythondata2\\lib\\site-packages\\statsmodels\\tsa\\base\\tsa_model.py:471: ValueWarning: No frequency information was provided, so inferred frequency AS-JAN will be used.\n",
      "  self._init_dates(dates, freq)\n",
      "C:\\Users\\Laura\\anaconda3\\envs\\pythondata2\\lib\\site-packages\\statsmodels\\tsa\\base\\tsa_model.py:471: ValueWarning: No frequency information was provided, so inferred frequency AS-JAN will be used.\n",
      "  self._init_dates(dates, freq)\n",
      "C:\\Users\\Laura\\anaconda3\\envs\\pythondata2\\lib\\site-packages\\statsmodels\\tsa\\base\\tsa_model.py:471: ValueWarning: No frequency information was provided, so inferred frequency AS-JAN will be used.\n",
      "  self._init_dates(dates, freq)\n"
     ]
    },
    {
     "name": "stdout",
     "output_type": "stream",
     "text": [
      "Bangladesh\n",
      "Russian Federation\n",
      "Mexico\n",
      "Japan\n"
     ]
    },
    {
     "name": "stderr",
     "output_type": "stream",
     "text": [
      "C:\\Users\\Laura\\anaconda3\\envs\\pythondata2\\lib\\site-packages\\statsmodels\\tsa\\base\\tsa_model.py:471: ValueWarning: No frequency information was provided, so inferred frequency AS-JAN will be used.\n",
      "  self._init_dates(dates, freq)\n",
      "C:\\Users\\Laura\\anaconda3\\envs\\pythondata2\\lib\\site-packages\\statsmodels\\tsa\\base\\tsa_model.py:471: ValueWarning: No frequency information was provided, so inferred frequency AS-JAN will be used.\n",
      "  self._init_dates(dates, freq)\n",
      "C:\\Users\\Laura\\anaconda3\\envs\\pythondata2\\lib\\site-packages\\statsmodels\\tsa\\base\\tsa_model.py:471: ValueWarning: No frequency information was provided, so inferred frequency AS-JAN will be used.\n",
      "  self._init_dates(dates, freq)\n",
      "C:\\Users\\Laura\\anaconda3\\envs\\pythondata2\\lib\\site-packages\\statsmodels\\tsa\\base\\tsa_model.py:471: ValueWarning: No frequency information was provided, so inferred frequency AS-JAN will be used.\n",
      "  self._init_dates(dates, freq)\n",
      "C:\\Users\\Laura\\anaconda3\\envs\\pythondata2\\lib\\site-packages\\statsmodels\\tsa\\base\\tsa_model.py:471: ValueWarning: No frequency information was provided, so inferred frequency AS-JAN will be used.\n",
      "  self._init_dates(dates, freq)\n",
      "C:\\Users\\Laura\\anaconda3\\envs\\pythondata2\\lib\\site-packages\\statsmodels\\tsa\\base\\tsa_model.py:471: ValueWarning: No frequency information was provided, so inferred frequency AS-JAN will be used.\n",
      "  self._init_dates(dates, freq)\n",
      "C:\\Users\\Laura\\anaconda3\\envs\\pythondata2\\lib\\site-packages\\statsmodels\\tsa\\base\\tsa_model.py:471: ValueWarning: No frequency information was provided, so inferred frequency AS-JAN will be used.\n",
      "  self._init_dates(dates, freq)\n",
      "C:\\Users\\Laura\\anaconda3\\envs\\pythondata2\\lib\\site-packages\\statsmodels\\tsa\\base\\tsa_model.py:471: ValueWarning: No frequency information was provided, so inferred frequency AS-JAN will be used.\n",
      "  self._init_dates(dates, freq)\n",
      "C:\\Users\\Laura\\anaconda3\\envs\\pythondata2\\lib\\site-packages\\statsmodels\\tsa\\base\\tsa_model.py:471: ValueWarning: No frequency information was provided, so inferred frequency AS-JAN will be used.\n",
      "  self._init_dates(dates, freq)\n",
      "C:\\Users\\Laura\\anaconda3\\envs\\pythondata2\\lib\\site-packages\\statsmodels\\tsa\\base\\tsa_model.py:471: ValueWarning: No frequency information was provided, so inferred frequency AS-JAN will be used.\n",
      "  self._init_dates(dates, freq)\n",
      "C:\\Users\\Laura\\anaconda3\\envs\\pythondata2\\lib\\site-packages\\statsmodels\\tsa\\base\\tsa_model.py:471: ValueWarning: No frequency information was provided, so inferred frequency AS-JAN will be used.\n",
      "  self._init_dates(dates, freq)\n",
      "C:\\Users\\Laura\\anaconda3\\envs\\pythondata2\\lib\\site-packages\\statsmodels\\tsa\\base\\tsa_model.py:471: ValueWarning: No frequency information was provided, so inferred frequency AS-JAN will be used.\n",
      "  self._init_dates(dates, freq)\n"
     ]
    },
    {
     "name": "stdout",
     "output_type": "stream",
     "text": [
      "Ethiopia\n",
      "Philippines\n",
      "Egypt\n",
      "Viet Nam\n"
     ]
    },
    {
     "name": "stderr",
     "output_type": "stream",
     "text": [
      "C:\\Users\\Laura\\anaconda3\\envs\\pythondata2\\lib\\site-packages\\statsmodels\\tsa\\base\\tsa_model.py:471: ValueWarning: No frequency information was provided, so inferred frequency AS-JAN will be used.\n",
      "  self._init_dates(dates, freq)\n",
      "C:\\Users\\Laura\\anaconda3\\envs\\pythondata2\\lib\\site-packages\\statsmodels\\tsa\\base\\tsa_model.py:471: ValueWarning: No frequency information was provided, so inferred frequency AS-JAN will be used.\n",
      "  self._init_dates(dates, freq)\n",
      "C:\\Users\\Laura\\anaconda3\\envs\\pythondata2\\lib\\site-packages\\statsmodels\\tsa\\base\\tsa_model.py:471: ValueWarning: No frequency information was provided, so inferred frequency AS-JAN will be used.\n",
      "  self._init_dates(dates, freq)\n",
      "C:\\Users\\Laura\\anaconda3\\envs\\pythondata2\\lib\\site-packages\\statsmodels\\tsa\\base\\tsa_model.py:471: ValueWarning: No frequency information was provided, so inferred frequency AS-JAN will be used.\n",
      "  self._init_dates(dates, freq)\n",
      "C:\\Users\\Laura\\anaconda3\\envs\\pythondata2\\lib\\site-packages\\statsmodels\\tsa\\base\\tsa_model.py:471: ValueWarning: No frequency information was provided, so inferred frequency AS-JAN will be used.\n",
      "  self._init_dates(dates, freq)\n",
      "C:\\Users\\Laura\\anaconda3\\envs\\pythondata2\\lib\\site-packages\\statsmodels\\tsa\\base\\tsa_model.py:471: ValueWarning: No frequency information was provided, so inferred frequency AS-JAN will be used.\n",
      "  self._init_dates(dates, freq)\n",
      "C:\\Users\\Laura\\anaconda3\\envs\\pythondata2\\lib\\site-packages\\statsmodels\\tsa\\base\\tsa_model.py:471: ValueWarning: No frequency information was provided, so inferred frequency AS-JAN will be used.\n",
      "  self._init_dates(dates, freq)\n",
      "C:\\Users\\Laura\\anaconda3\\envs\\pythondata2\\lib\\site-packages\\statsmodels\\tsa\\base\\tsa_model.py:471: ValueWarning: No frequency information was provided, so inferred frequency AS-JAN will be used.\n",
      "  self._init_dates(dates, freq)\n",
      "C:\\Users\\Laura\\anaconda3\\envs\\pythondata2\\lib\\site-packages\\statsmodels\\tsa\\base\\tsa_model.py:471: ValueWarning: No frequency information was provided, so inferred frequency AS-JAN will be used.\n",
      "  self._init_dates(dates, freq)\n",
      "C:\\Users\\Laura\\anaconda3\\envs\\pythondata2\\lib\\site-packages\\statsmodels\\tsa\\base\\tsa_model.py:471: ValueWarning: No frequency information was provided, so inferred frequency AS-JAN will be used.\n",
      "  self._init_dates(dates, freq)\n",
      "C:\\Users\\Laura\\anaconda3\\envs\\pythondata2\\lib\\site-packages\\statsmodels\\tsa\\base\\tsa_model.py:471: ValueWarning: No frequency information was provided, so inferred frequency AS-JAN will be used.\n",
      "  self._init_dates(dates, freq)\n",
      "C:\\Users\\Laura\\anaconda3\\envs\\pythondata2\\lib\\site-packages\\statsmodels\\tsa\\base\\tsa_model.py:471: ValueWarning: No frequency information was provided, so inferred frequency AS-JAN will be used.\n",
      "  self._init_dates(dates, freq)\n"
     ]
    },
    {
     "name": "stdout",
     "output_type": "stream",
     "text": [
      "Democratic Republic of the Congo\n",
      "Iran (Islamic Republic of)\n",
      "Germany\n",
      "Thailand\n"
     ]
    },
    {
     "name": "stderr",
     "output_type": "stream",
     "text": [
      "C:\\Users\\Laura\\anaconda3\\envs\\pythondata2\\lib\\site-packages\\statsmodels\\tsa\\base\\tsa_model.py:471: ValueWarning: No frequency information was provided, so inferred frequency AS-JAN will be used.\n",
      "  self._init_dates(dates, freq)\n",
      "C:\\Users\\Laura\\anaconda3\\envs\\pythondata2\\lib\\site-packages\\statsmodels\\tsa\\base\\tsa_model.py:471: ValueWarning: No frequency information was provided, so inferred frequency AS-JAN will be used.\n",
      "  self._init_dates(dates, freq)\n",
      "C:\\Users\\Laura\\anaconda3\\envs\\pythondata2\\lib\\site-packages\\statsmodels\\tsa\\base\\tsa_model.py:471: ValueWarning: No frequency information was provided, so inferred frequency AS-JAN will be used.\n",
      "  self._init_dates(dates, freq)\n",
      "C:\\Users\\Laura\\anaconda3\\envs\\pythondata2\\lib\\site-packages\\statsmodels\\tsa\\base\\tsa_model.py:471: ValueWarning: No frequency information was provided, so inferred frequency AS-JAN will be used.\n",
      "  self._init_dates(dates, freq)\n",
      "C:\\Users\\Laura\\anaconda3\\envs\\pythondata2\\lib\\site-packages\\statsmodels\\tsa\\base\\tsa_model.py:471: ValueWarning: No frequency information was provided, so inferred frequency AS-JAN will be used.\n",
      "  self._init_dates(dates, freq)\n",
      "C:\\Users\\Laura\\anaconda3\\envs\\pythondata2\\lib\\site-packages\\statsmodels\\tsa\\base\\tsa_model.py:471: ValueWarning: No frequency information was provided, so inferred frequency AS-JAN will be used.\n",
      "  self._init_dates(dates, freq)\n",
      "C:\\Users\\Laura\\anaconda3\\envs\\pythondata2\\lib\\site-packages\\statsmodels\\tsa\\base\\tsa_model.py:471: ValueWarning: No frequency information was provided, so inferred frequency AS-JAN will be used.\n",
      "  self._init_dates(dates, freq)\n",
      "C:\\Users\\Laura\\anaconda3\\envs\\pythondata2\\lib\\site-packages\\statsmodels\\tsa\\base\\tsa_model.py:471: ValueWarning: No frequency information was provided, so inferred frequency AS-JAN will be used.\n",
      "  self._init_dates(dates, freq)\n",
      "C:\\Users\\Laura\\anaconda3\\envs\\pythondata2\\lib\\site-packages\\statsmodels\\tsa\\base\\tsa_model.py:471: ValueWarning: No frequency information was provided, so inferred frequency AS-JAN will be used.\n",
      "  self._init_dates(dates, freq)\n",
      "C:\\Users\\Laura\\anaconda3\\envs\\pythondata2\\lib\\site-packages\\statsmodels\\tsa\\base\\tsa_model.py:471: ValueWarning: No frequency information was provided, so inferred frequency AS-JAN will be used.\n",
      "  self._init_dates(dates, freq)\n",
      "C:\\Users\\Laura\\anaconda3\\envs\\pythondata2\\lib\\site-packages\\statsmodels\\tsa\\base\\tsa_model.py:471: ValueWarning: No frequency information was provided, so inferred frequency AS-JAN will be used.\n",
      "  self._init_dates(dates, freq)\n",
      "C:\\Users\\Laura\\anaconda3\\envs\\pythondata2\\lib\\site-packages\\statsmodels\\tsa\\base\\tsa_model.py:471: ValueWarning: No frequency information was provided, so inferred frequency AS-JAN will be used.\n",
      "  self._init_dates(dates, freq)\n"
     ]
    },
    {
     "name": "stdout",
     "output_type": "stream",
     "text": [
      "United Kingdom of Great Britain and Northern Ireland\n",
      "France\n",
      "Italy\n",
      "United Republic of Tanzania\n"
     ]
    },
    {
     "name": "stderr",
     "output_type": "stream",
     "text": [
      "C:\\Users\\Laura\\anaconda3\\envs\\pythondata2\\lib\\site-packages\\statsmodels\\tsa\\base\\tsa_model.py:471: ValueWarning: No frequency information was provided, so inferred frequency AS-JAN will be used.\n",
      "  self._init_dates(dates, freq)\n",
      "C:\\Users\\Laura\\anaconda3\\envs\\pythondata2\\lib\\site-packages\\statsmodels\\tsa\\base\\tsa_model.py:471: ValueWarning: No frequency information was provided, so inferred frequency AS-JAN will be used.\n",
      "  self._init_dates(dates, freq)\n",
      "C:\\Users\\Laura\\anaconda3\\envs\\pythondata2\\lib\\site-packages\\statsmodels\\tsa\\base\\tsa_model.py:471: ValueWarning: No frequency information was provided, so inferred frequency AS-JAN will be used.\n",
      "  self._init_dates(dates, freq)\n",
      "C:\\Users\\Laura\\anaconda3\\envs\\pythondata2\\lib\\site-packages\\statsmodels\\tsa\\base\\tsa_model.py:471: ValueWarning: No frequency information was provided, so inferred frequency AS-JAN will be used.\n",
      "  self._init_dates(dates, freq)\n",
      "C:\\Users\\Laura\\anaconda3\\envs\\pythondata2\\lib\\site-packages\\statsmodels\\tsa\\base\\tsa_model.py:471: ValueWarning: No frequency information was provided, so inferred frequency AS-JAN will be used.\n",
      "  self._init_dates(dates, freq)\n",
      "C:\\Users\\Laura\\anaconda3\\envs\\pythondata2\\lib\\site-packages\\statsmodels\\tsa\\base\\tsa_model.py:471: ValueWarning: No frequency information was provided, so inferred frequency AS-JAN will be used.\n",
      "  self._init_dates(dates, freq)\n",
      "C:\\Users\\Laura\\anaconda3\\envs\\pythondata2\\lib\\site-packages\\statsmodels\\tsa\\base\\tsa_model.py:471: ValueWarning: No frequency information was provided, so inferred frequency AS-JAN will be used.\n",
      "  self._init_dates(dates, freq)\n",
      "C:\\Users\\Laura\\anaconda3\\envs\\pythondata2\\lib\\site-packages\\statsmodels\\tsa\\base\\tsa_model.py:471: ValueWarning: No frequency information was provided, so inferred frequency AS-JAN will be used.\n",
      "  self._init_dates(dates, freq)\n",
      "C:\\Users\\Laura\\anaconda3\\envs\\pythondata2\\lib\\site-packages\\statsmodels\\tsa\\base\\tsa_model.py:471: ValueWarning: No frequency information was provided, so inferred frequency AS-JAN will be used.\n",
      "  self._init_dates(dates, freq)\n",
      "C:\\Users\\Laura\\anaconda3\\envs\\pythondata2\\lib\\site-packages\\statsmodels\\tsa\\base\\tsa_model.py:471: ValueWarning: No frequency information was provided, so inferred frequency AS-JAN will be used.\n",
      "  self._init_dates(dates, freq)\n",
      "C:\\Users\\Laura\\anaconda3\\envs\\pythondata2\\lib\\site-packages\\statsmodels\\tsa\\base\\tsa_model.py:471: ValueWarning: No frequency information was provided, so inferred frequency AS-JAN will be used.\n",
      "  self._init_dates(dates, freq)\n",
      "C:\\Users\\Laura\\anaconda3\\envs\\pythondata2\\lib\\site-packages\\statsmodels\\tsa\\base\\tsa_model.py:471: ValueWarning: No frequency information was provided, so inferred frequency AS-JAN will be used.\n",
      "  self._init_dates(dates, freq)\n"
     ]
    },
    {
     "name": "stdout",
     "output_type": "stream",
     "text": [
      "South Africa\n",
      "Myanmar\n",
      "Kenya\n",
      "Republic of Korea\n",
      "Colombia\n"
     ]
    },
    {
     "name": "stderr",
     "output_type": "stream",
     "text": [
      "C:\\Users\\Laura\\anaconda3\\envs\\pythondata2\\lib\\site-packages\\statsmodels\\tsa\\base\\tsa_model.py:471: ValueWarning: No frequency information was provided, so inferred frequency AS-JAN will be used.\n",
      "  self._init_dates(dates, freq)\n",
      "C:\\Users\\Laura\\anaconda3\\envs\\pythondata2\\lib\\site-packages\\statsmodels\\tsa\\base\\tsa_model.py:471: ValueWarning: No frequency information was provided, so inferred frequency AS-JAN will be used.\n",
      "  self._init_dates(dates, freq)\n",
      "C:\\Users\\Laura\\anaconda3\\envs\\pythondata2\\lib\\site-packages\\statsmodels\\tsa\\base\\tsa_model.py:471: ValueWarning: No frequency information was provided, so inferred frequency AS-JAN will be used.\n",
      "  self._init_dates(dates, freq)\n",
      "C:\\Users\\Laura\\anaconda3\\envs\\pythondata2\\lib\\site-packages\\statsmodels\\tsa\\base\\tsa_model.py:471: ValueWarning: No frequency information was provided, so inferred frequency AS-JAN will be used.\n",
      "  self._init_dates(dates, freq)\n",
      "C:\\Users\\Laura\\anaconda3\\envs\\pythondata2\\lib\\site-packages\\statsmodels\\tsa\\base\\tsa_model.py:471: ValueWarning: No frequency information was provided, so inferred frequency AS-JAN will be used.\n",
      "  self._init_dates(dates, freq)\n",
      "C:\\Users\\Laura\\anaconda3\\envs\\pythondata2\\lib\\site-packages\\statsmodels\\tsa\\base\\tsa_model.py:471: ValueWarning: No frequency information was provided, so inferred frequency AS-JAN will be used.\n",
      "  self._init_dates(dates, freq)\n",
      "C:\\Users\\Laura\\anaconda3\\envs\\pythondata2\\lib\\site-packages\\statsmodels\\tsa\\base\\tsa_model.py:471: ValueWarning: No frequency information was provided, so inferred frequency AS-JAN will be used.\n",
      "  self._init_dates(dates, freq)\n",
      "C:\\Users\\Laura\\anaconda3\\envs\\pythondata2\\lib\\site-packages\\statsmodels\\tsa\\base\\tsa_model.py:471: ValueWarning: No frequency information was provided, so inferred frequency AS-JAN will be used.\n",
      "  self._init_dates(dates, freq)\n",
      "C:\\Users\\Laura\\anaconda3\\envs\\pythondata2\\lib\\site-packages\\statsmodels\\tsa\\base\\tsa_model.py:471: ValueWarning: No frequency information was provided, so inferred frequency AS-JAN will be used.\n",
      "  self._init_dates(dates, freq)\n",
      "C:\\Users\\Laura\\anaconda3\\envs\\pythondata2\\lib\\site-packages\\statsmodels\\tsa\\base\\tsa_model.py:471: ValueWarning: No frequency information was provided, so inferred frequency AS-JAN will be used.\n",
      "  self._init_dates(dates, freq)\n",
      "C:\\Users\\Laura\\anaconda3\\envs\\pythondata2\\lib\\site-packages\\statsmodels\\tsa\\base\\tsa_model.py:471: ValueWarning: No frequency information was provided, so inferred frequency AS-JAN will be used.\n",
      "  self._init_dates(dates, freq)\n",
      "C:\\Users\\Laura\\anaconda3\\envs\\pythondata2\\lib\\site-packages\\statsmodels\\tsa\\base\\tsa_model.py:471: ValueWarning: No frequency information was provided, so inferred frequency AS-JAN will be used.\n",
      "  self._init_dates(dates, freq)\n"
     ]
    },
    {
     "name": "stdout",
     "output_type": "stream",
     "text": [
      "Spain\n",
      "Uganda\n",
      "Argentina\n",
      "Algeria\n",
      "Sudan\n"
     ]
    },
    {
     "name": "stderr",
     "output_type": "stream",
     "text": [
      "C:\\Users\\Laura\\anaconda3\\envs\\pythondata2\\lib\\site-packages\\statsmodels\\tsa\\base\\tsa_model.py:471: ValueWarning: No frequency information was provided, so inferred frequency AS-JAN will be used.\n",
      "  self._init_dates(dates, freq)\n",
      "C:\\Users\\Laura\\anaconda3\\envs\\pythondata2\\lib\\site-packages\\statsmodels\\tsa\\base\\tsa_model.py:471: ValueWarning: No frequency information was provided, so inferred frequency AS-JAN will be used.\n",
      "  self._init_dates(dates, freq)\n",
      "C:\\Users\\Laura\\anaconda3\\envs\\pythondata2\\lib\\site-packages\\statsmodels\\tsa\\base\\tsa_model.py:471: ValueWarning: No frequency information was provided, so inferred frequency AS-JAN will be used.\n",
      "  self._init_dates(dates, freq)\n",
      "C:\\Users\\Laura\\anaconda3\\envs\\pythondata2\\lib\\site-packages\\statsmodels\\tsa\\base\\tsa_model.py:471: ValueWarning: No frequency information was provided, so inferred frequency AS-JAN will be used.\n",
      "  self._init_dates(dates, freq)\n",
      "C:\\Users\\Laura\\anaconda3\\envs\\pythondata2\\lib\\site-packages\\statsmodels\\tsa\\base\\tsa_model.py:471: ValueWarning: No frequency information was provided, so inferred frequency AS-JAN will be used.\n",
      "  self._init_dates(dates, freq)\n",
      "C:\\Users\\Laura\\anaconda3\\envs\\pythondata2\\lib\\site-packages\\statsmodels\\tsa\\base\\tsa_model.py:471: ValueWarning: No frequency information was provided, so inferred frequency AS-JAN will be used.\n",
      "  self._init_dates(dates, freq)\n",
      "C:\\Users\\Laura\\anaconda3\\envs\\pythondata2\\lib\\site-packages\\statsmodels\\tsa\\base\\tsa_model.py:471: ValueWarning: No frequency information was provided, so inferred frequency AS-JAN will be used.\n",
      "  self._init_dates(dates, freq)\n",
      "C:\\Users\\Laura\\anaconda3\\envs\\pythondata2\\lib\\site-packages\\statsmodels\\tsa\\base\\tsa_model.py:471: ValueWarning: No frequency information was provided, so inferred frequency AS-JAN will be used.\n",
      "  self._init_dates(dates, freq)\n",
      "C:\\Users\\Laura\\anaconda3\\envs\\pythondata2\\lib\\site-packages\\statsmodels\\tsa\\base\\tsa_model.py:471: ValueWarning: No frequency information was provided, so inferred frequency AS-JAN will be used.\n",
      "  self._init_dates(dates, freq)\n",
      "C:\\Users\\Laura\\anaconda3\\envs\\pythondata2\\lib\\site-packages\\statsmodels\\tsa\\base\\tsa_model.py:471: ValueWarning: No frequency information was provided, so inferred frequency AS-JAN will be used.\n",
      "  self._init_dates(dates, freq)\n",
      "C:\\Users\\Laura\\anaconda3\\envs\\pythondata2\\lib\\site-packages\\statsmodels\\tsa\\base\\tsa_model.py:471: ValueWarning: No frequency information was provided, so inferred frequency AS-JAN will be used.\n",
      "  self._init_dates(dates, freq)\n",
      "C:\\Users\\Laura\\anaconda3\\envs\\pythondata2\\lib\\site-packages\\statsmodels\\tsa\\base\\tsa_model.py:471: ValueWarning: No frequency information was provided, so inferred frequency AS-JAN will be used.\n",
      "  self._init_dates(dates, freq)\n",
      "C:\\Users\\Laura\\anaconda3\\envs\\pythondata2\\lib\\site-packages\\statsmodels\\tsa\\base\\tsa_model.py:471: ValueWarning: No frequency information was provided, so inferred frequency AS-JAN will be used.\n",
      "  self._init_dates(dates, freq)\n",
      "C:\\Users\\Laura\\anaconda3\\envs\\pythondata2\\lib\\site-packages\\statsmodels\\tsa\\base\\tsa_model.py:471: ValueWarning: No frequency information was provided, so inferred frequency AS-JAN will be used.\n",
      "  self._init_dates(dates, freq)\n",
      "C:\\Users\\Laura\\anaconda3\\envs\\pythondata2\\lib\\site-packages\\statsmodels\\tsa\\base\\tsa_model.py:471: ValueWarning: No frequency information was provided, so inferred frequency AS-JAN will be used.\n",
      "  self._init_dates(dates, freq)\n"
     ]
    },
    {
     "name": "stdout",
     "output_type": "stream",
     "text": [
      "Ukraine\n",
      "Iraq\n",
      "Afghanistan\n",
      "Canada\n"
     ]
    },
    {
     "name": "stderr",
     "output_type": "stream",
     "text": [
      "C:\\Users\\Laura\\anaconda3\\envs\\pythondata2\\lib\\site-packages\\statsmodels\\tsa\\base\\tsa_model.py:471: ValueWarning: No frequency information was provided, so inferred frequency AS-JAN will be used.\n",
      "  self._init_dates(dates, freq)\n",
      "C:\\Users\\Laura\\anaconda3\\envs\\pythondata2\\lib\\site-packages\\statsmodels\\tsa\\base\\tsa_model.py:471: ValueWarning: No frequency information was provided, so inferred frequency AS-JAN will be used.\n",
      "  self._init_dates(dates, freq)\n",
      "C:\\Users\\Laura\\anaconda3\\envs\\pythondata2\\lib\\site-packages\\statsmodels\\tsa\\base\\tsa_model.py:471: ValueWarning: No frequency information was provided, so inferred frequency AS-JAN will be used.\n",
      "  self._init_dates(dates, freq)\n",
      "C:\\Users\\Laura\\anaconda3\\envs\\pythondata2\\lib\\site-packages\\statsmodels\\tsa\\base\\tsa_model.py:471: ValueWarning: No frequency information was provided, so inferred frequency AS-JAN will be used.\n",
      "  self._init_dates(dates, freq)\n",
      "C:\\Users\\Laura\\anaconda3\\envs\\pythondata2\\lib\\site-packages\\statsmodels\\tsa\\base\\tsa_model.py:471: ValueWarning: No frequency information was provided, so inferred frequency AS-JAN will be used.\n",
      "  self._init_dates(dates, freq)\n",
      "C:\\Users\\Laura\\anaconda3\\envs\\pythondata2\\lib\\site-packages\\statsmodels\\tsa\\base\\tsa_model.py:471: ValueWarning: No frequency information was provided, so inferred frequency AS-JAN will be used.\n",
      "  self._init_dates(dates, freq)\n",
      "C:\\Users\\Laura\\anaconda3\\envs\\pythondata2\\lib\\site-packages\\statsmodels\\tsa\\base\\tsa_model.py:471: ValueWarning: No frequency information was provided, so inferred frequency AS-JAN will be used.\n",
      "  self._init_dates(dates, freq)\n",
      "C:\\Users\\Laura\\anaconda3\\envs\\pythondata2\\lib\\site-packages\\statsmodels\\tsa\\base\\tsa_model.py:471: ValueWarning: No frequency information was provided, so inferred frequency AS-JAN will be used.\n",
      "  self._init_dates(dates, freq)\n",
      "C:\\Users\\Laura\\anaconda3\\envs\\pythondata2\\lib\\site-packages\\statsmodels\\tsa\\base\\tsa_model.py:471: ValueWarning: No frequency information was provided, so inferred frequency AS-JAN will be used.\n",
      "  self._init_dates(dates, freq)\n",
      "C:\\Users\\Laura\\anaconda3\\envs\\pythondata2\\lib\\site-packages\\statsmodels\\tsa\\base\\tsa_model.py:471: ValueWarning: No frequency information was provided, so inferred frequency AS-JAN will be used.\n",
      "  self._init_dates(dates, freq)\n",
      "C:\\Users\\Laura\\anaconda3\\envs\\pythondata2\\lib\\site-packages\\statsmodels\\tsa\\base\\tsa_model.py:471: ValueWarning: No frequency information was provided, so inferred frequency AS-JAN will be used.\n",
      "  self._init_dates(dates, freq)\n",
      "C:\\Users\\Laura\\anaconda3\\envs\\pythondata2\\lib\\site-packages\\statsmodels\\tsa\\base\\tsa_model.py:471: ValueWarning: No frequency information was provided, so inferred frequency AS-JAN will be used.\n",
      "  self._init_dates(dates, freq)\n"
     ]
    },
    {
     "name": "stdout",
     "output_type": "stream",
     "text": [
      "Morocco\n",
      "Saudi Arabia\n",
      "Uzbekistan\n",
      "Peru\n",
      "Malaysia\n"
     ]
    },
    {
     "name": "stderr",
     "output_type": "stream",
     "text": [
      "C:\\Users\\Laura\\anaconda3\\envs\\pythondata2\\lib\\site-packages\\statsmodels\\tsa\\base\\tsa_model.py:471: ValueWarning: No frequency information was provided, so inferred frequency AS-JAN will be used.\n",
      "  self._init_dates(dates, freq)\n",
      "C:\\Users\\Laura\\anaconda3\\envs\\pythondata2\\lib\\site-packages\\statsmodels\\tsa\\base\\tsa_model.py:471: ValueWarning: No frequency information was provided, so inferred frequency AS-JAN will be used.\n",
      "  self._init_dates(dates, freq)\n",
      "C:\\Users\\Laura\\anaconda3\\envs\\pythondata2\\lib\\site-packages\\statsmodels\\tsa\\base\\tsa_model.py:471: ValueWarning: No frequency information was provided, so inferred frequency AS-JAN will be used.\n",
      "  self._init_dates(dates, freq)\n",
      "C:\\Users\\Laura\\anaconda3\\envs\\pythondata2\\lib\\site-packages\\statsmodels\\tsa\\base\\tsa_model.py:471: ValueWarning: No frequency information was provided, so inferred frequency AS-JAN will be used.\n",
      "  self._init_dates(dates, freq)\n",
      "C:\\Users\\Laura\\anaconda3\\envs\\pythondata2\\lib\\site-packages\\statsmodels\\tsa\\base\\tsa_model.py:471: ValueWarning: No frequency information was provided, so inferred frequency AS-JAN will be used.\n",
      "  self._init_dates(dates, freq)\n",
      "C:\\Users\\Laura\\anaconda3\\envs\\pythondata2\\lib\\site-packages\\statsmodels\\tsa\\base\\tsa_model.py:471: ValueWarning: No frequency information was provided, so inferred frequency AS-JAN will be used.\n",
      "  self._init_dates(dates, freq)\n",
      "C:\\Users\\Laura\\anaconda3\\envs\\pythondata2\\lib\\site-packages\\statsmodels\\tsa\\base\\tsa_model.py:471: ValueWarning: No frequency information was provided, so inferred frequency AS-JAN will be used.\n",
      "  self._init_dates(dates, freq)\n",
      "C:\\Users\\Laura\\anaconda3\\envs\\pythondata2\\lib\\site-packages\\statsmodels\\tsa\\base\\tsa_model.py:471: ValueWarning: No frequency information was provided, so inferred frequency AS-JAN will be used.\n",
      "  self._init_dates(dates, freq)\n",
      "C:\\Users\\Laura\\anaconda3\\envs\\pythondata2\\lib\\site-packages\\statsmodels\\tsa\\base\\tsa_model.py:471: ValueWarning: No frequency information was provided, so inferred frequency AS-JAN will be used.\n",
      "  self._init_dates(dates, freq)\n",
      "C:\\Users\\Laura\\anaconda3\\envs\\pythondata2\\lib\\site-packages\\statsmodels\\tsa\\base\\tsa_model.py:471: ValueWarning: No frequency information was provided, so inferred frequency AS-JAN will be used.\n",
      "  self._init_dates(dates, freq)\n",
      "C:\\Users\\Laura\\anaconda3\\envs\\pythondata2\\lib\\site-packages\\statsmodels\\tsa\\base\\tsa_model.py:471: ValueWarning: No frequency information was provided, so inferred frequency AS-JAN will be used.\n",
      "  self._init_dates(dates, freq)\n",
      "C:\\Users\\Laura\\anaconda3\\envs\\pythondata2\\lib\\site-packages\\statsmodels\\tsa\\base\\tsa_model.py:471: ValueWarning: No frequency information was provided, so inferred frequency AS-JAN will be used.\n",
      "  self._init_dates(dates, freq)\n",
      "C:\\Users\\Laura\\anaconda3\\envs\\pythondata2\\lib\\site-packages\\statsmodels\\tsa\\base\\tsa_model.py:471: ValueWarning: No frequency information was provided, so inferred frequency AS-JAN will be used.\n",
      "  self._init_dates(dates, freq)\n",
      "C:\\Users\\Laura\\anaconda3\\envs\\pythondata2\\lib\\site-packages\\statsmodels\\tsa\\base\\tsa_model.py:471: ValueWarning: No frequency information was provided, so inferred frequency AS-JAN will be used.\n",
      "  self._init_dates(dates, freq)\n",
      "C:\\Users\\Laura\\anaconda3\\envs\\pythondata2\\lib\\site-packages\\statsmodels\\tsa\\base\\tsa_model.py:471: ValueWarning: No frequency information was provided, so inferred frequency AS-JAN will be used.\n",
      "  self._init_dates(dates, freq)\n"
     ]
    },
    {
     "name": "stdout",
     "output_type": "stream",
     "text": [
      "Mozambique\n",
      "Ghana\n",
      "Nepal\n",
      "Venezuela (Bolivarian Republic of)\n",
      "Madagascar\n"
     ]
    },
    {
     "name": "stderr",
     "output_type": "stream",
     "text": [
      "C:\\Users\\Laura\\anaconda3\\envs\\pythondata2\\lib\\site-packages\\statsmodels\\tsa\\base\\tsa_model.py:471: ValueWarning: No frequency information was provided, so inferred frequency AS-JAN will be used.\n",
      "  self._init_dates(dates, freq)\n",
      "C:\\Users\\Laura\\anaconda3\\envs\\pythondata2\\lib\\site-packages\\statsmodels\\tsa\\base\\tsa_model.py:471: ValueWarning: No frequency information was provided, so inferred frequency AS-JAN will be used.\n",
      "  self._init_dates(dates, freq)\n",
      "C:\\Users\\Laura\\anaconda3\\envs\\pythondata2\\lib\\site-packages\\statsmodels\\tsa\\base\\tsa_model.py:471: ValueWarning: No frequency information was provided, so inferred frequency AS-JAN will be used.\n",
      "  self._init_dates(dates, freq)\n",
      "C:\\Users\\Laura\\anaconda3\\envs\\pythondata2\\lib\\site-packages\\statsmodels\\tsa\\base\\tsa_model.py:471: ValueWarning: No frequency information was provided, so inferred frequency AS-JAN will be used.\n",
      "  self._init_dates(dates, freq)\n",
      "C:\\Users\\Laura\\anaconda3\\envs\\pythondata2\\lib\\site-packages\\statsmodels\\tsa\\base\\tsa_model.py:471: ValueWarning: No frequency information was provided, so inferred frequency AS-JAN will be used.\n",
      "  self._init_dates(dates, freq)\n",
      "C:\\Users\\Laura\\anaconda3\\envs\\pythondata2\\lib\\site-packages\\statsmodels\\tsa\\base\\tsa_model.py:471: ValueWarning: No frequency information was provided, so inferred frequency AS-JAN will be used.\n",
      "  self._init_dates(dates, freq)\n",
      "C:\\Users\\Laura\\anaconda3\\envs\\pythondata2\\lib\\site-packages\\statsmodels\\tsa\\base\\tsa_model.py:471: ValueWarning: No frequency information was provided, so inferred frequency AS-JAN will be used.\n",
      "  self._init_dates(dates, freq)\n",
      "C:\\Users\\Laura\\anaconda3\\envs\\pythondata2\\lib\\site-packages\\statsmodels\\tsa\\base\\tsa_model.py:471: ValueWarning: No frequency information was provided, so inferred frequency AS-JAN will be used.\n",
      "  self._init_dates(dates, freq)\n",
      "C:\\Users\\Laura\\anaconda3\\envs\\pythondata2\\lib\\site-packages\\statsmodels\\tsa\\base\\tsa_model.py:471: ValueWarning: No frequency information was provided, so inferred frequency AS-JAN will be used.\n",
      "  self._init_dates(dates, freq)\n",
      "C:\\Users\\Laura\\anaconda3\\envs\\pythondata2\\lib\\site-packages\\statsmodels\\tsa\\base\\tsa_model.py:471: ValueWarning: No frequency information was provided, so inferred frequency AS-JAN will be used.\n",
      "  self._init_dates(dates, freq)\n"
     ]
    },
    {
     "name": "stdout",
     "output_type": "stream",
     "text": [
      "Cameroon\n",
      "Côte d'Ivoire\n",
      "Australia\n"
     ]
    },
    {
     "name": "stderr",
     "output_type": "stream",
     "text": [
      "C:\\Users\\Laura\\anaconda3\\envs\\pythondata2\\lib\\site-packages\\statsmodels\\tsa\\base\\tsa_model.py:471: ValueWarning: No frequency information was provided, so inferred frequency AS-JAN will be used.\n",
      "  self._init_dates(dates, freq)\n",
      "C:\\Users\\Laura\\anaconda3\\envs\\pythondata2\\lib\\site-packages\\statsmodels\\tsa\\base\\tsa_model.py:471: ValueWarning: No frequency information was provided, so inferred frequency AS-JAN will be used.\n",
      "  self._init_dates(dates, freq)\n",
      "C:\\Users\\Laura\\anaconda3\\envs\\pythondata2\\lib\\site-packages\\statsmodels\\tsa\\base\\tsa_model.py:471: ValueWarning: No frequency information was provided, so inferred frequency AS-JAN will be used.\n",
      "  self._init_dates(dates, freq)\n",
      "C:\\Users\\Laura\\anaconda3\\envs\\pythondata2\\lib\\site-packages\\statsmodels\\tsa\\base\\tsa_model.py:471: ValueWarning: No frequency information was provided, so inferred frequency AS-JAN will be used.\n",
      "  self._init_dates(dates, freq)\n",
      "C:\\Users\\Laura\\anaconda3\\envs\\pythondata2\\lib\\site-packages\\statsmodels\\tsa\\base\\tsa_model.py:471: ValueWarning: No frequency information was provided, so inferred frequency AS-JAN will be used.\n",
      "  self._init_dates(dates, freq)\n",
      "C:\\Users\\Laura\\anaconda3\\envs\\pythondata2\\lib\\site-packages\\statsmodels\\base\\model.py:606: ConvergenceWarning: Maximum Likelihood optimization failed to converge. Check mle_retvals\n",
      "  ConvergenceWarning)\n",
      "C:\\Users\\Laura\\anaconda3\\envs\\pythondata2\\lib\\site-packages\\statsmodels\\tsa\\base\\tsa_model.py:471: ValueWarning: No frequency information was provided, so inferred frequency AS-JAN will be used.\n",
      "  self._init_dates(dates, freq)\n",
      "C:\\Users\\Laura\\anaconda3\\envs\\pythondata2\\lib\\site-packages\\statsmodels\\tsa\\base\\tsa_model.py:471: ValueWarning: No frequency information was provided, so inferred frequency AS-JAN will be used.\n",
      "  self._init_dates(dates, freq)\n",
      "C:\\Users\\Laura\\anaconda3\\envs\\pythondata2\\lib\\site-packages\\statsmodels\\tsa\\base\\tsa_model.py:471: ValueWarning: No frequency information was provided, so inferred frequency AS-JAN will be used.\n",
      "  self._init_dates(dates, freq)\n"
     ]
    }
   ],
   "source": [
    "\n",
    "for i in top_50_countries:\n",
    "    print(i)\n",
    "    country_input = i\n",
    "    single_country_df = df[df[\"Country_name\"] == i]\n",
    "    single_country_df_clean = single_country_df[[\"Year\",\"Anaemia_Num(Thousands)\",\"Country_name\"]]\n",
    "    country_df = single_country_df_clean.reset_index(drop=True)\n",
    "    country_df[\"Year\"]  = pd.to_datetime(country_df[\"Year\"].astype(str), format = \"%Y\")\n",
    "    country_df.set_index(\"Year\", inplace=True)\n",
    "    country_df_for_model = country_df[[\"Anaemia_Num(Thousands)\"]]\n",
    "    model = ARIMA(country_df_for_model, order=(5,1,0))\n",
    "    model_fit = model.fit()\n",
    "    forecast_df = model_fit.get_forecast(6, alpha=0.05).summary_frame()\n",
    "    forecast_df[\"Country_name\"] = country_input\n",
    "    future_df = pd.concat([country_df,forecast_df])\n",
    "    test_appended_df = pd.concat([test_appended_df,future_df])\n",
    "\n"
   ]
  },
  {
   "cell_type": "code",
   "execution_count": 88,
   "metadata": {},
   "outputs": [
    {
     "data": {
      "text/html": [
       "<div>\n",
       "<style scoped>\n",
       "    .dataframe tbody tr th:only-of-type {\n",
       "        vertical-align: middle;\n",
       "    }\n",
       "\n",
       "    .dataframe tbody tr th {\n",
       "        vertical-align: top;\n",
       "    }\n",
       "\n",
       "    .dataframe thead th {\n",
       "        text-align: right;\n",
       "    }\n",
       "</style>\n",
       "<table border=\"1\" class=\"dataframe\">\n",
       "  <thead>\n",
       "    <tr style=\"text-align: right;\">\n",
       "      <th></th>\n",
       "      <th>Anaemia_Num(Thousands)</th>\n",
       "      <th>Country_name</th>\n",
       "      <th>mean</th>\n",
       "      <th>mean_se</th>\n",
       "      <th>mean_ci_lower</th>\n",
       "      <th>mean_ci_upper</th>\n",
       "    </tr>\n",
       "  </thead>\n",
       "  <tbody>\n",
       "    <tr>\n",
       "      <th>2000-01-01</th>\n",
       "      <td>79563.801</td>\n",
       "      <td>China</td>\n",
       "      <td>NaN</td>\n",
       "      <td>NaN</td>\n",
       "      <td>NaN</td>\n",
       "      <td>NaN</td>\n",
       "    </tr>\n",
       "    <tr>\n",
       "      <th>2001-01-01</th>\n",
       "      <td>76520.032</td>\n",
       "      <td>China</td>\n",
       "      <td>NaN</td>\n",
       "      <td>NaN</td>\n",
       "      <td>NaN</td>\n",
       "      <td>NaN</td>\n",
       "    </tr>\n",
       "    <tr>\n",
       "      <th>2002-01-01</th>\n",
       "      <td>74488.868</td>\n",
       "      <td>China</td>\n",
       "      <td>NaN</td>\n",
       "      <td>NaN</td>\n",
       "      <td>NaN</td>\n",
       "      <td>NaN</td>\n",
       "    </tr>\n",
       "    <tr>\n",
       "      <th>2003-01-01</th>\n",
       "      <td>72780.049</td>\n",
       "      <td>China</td>\n",
       "      <td>NaN</td>\n",
       "      <td>NaN</td>\n",
       "      <td>NaN</td>\n",
       "      <td>NaN</td>\n",
       "    </tr>\n",
       "    <tr>\n",
       "      <th>2004-01-01</th>\n",
       "      <td>71106.276</td>\n",
       "      <td>China</td>\n",
       "      <td>NaN</td>\n",
       "      <td>NaN</td>\n",
       "      <td>NaN</td>\n",
       "      <td>NaN</td>\n",
       "    </tr>\n",
       "    <tr>\n",
       "      <th>...</th>\n",
       "      <td>...</td>\n",
       "      <td>...</td>\n",
       "      <td>...</td>\n",
       "      <td>...</td>\n",
       "      <td>...</td>\n",
       "      <td>...</td>\n",
       "    </tr>\n",
       "    <tr>\n",
       "      <th>2021-01-01</th>\n",
       "      <td>NaN</td>\n",
       "      <td>Australia</td>\n",
       "      <td>547.708922</td>\n",
       "      <td>4.059557</td>\n",
       "      <td>539.752336</td>\n",
       "      <td>555.665508</td>\n",
       "    </tr>\n",
       "    <tr>\n",
       "      <th>2022-01-01</th>\n",
       "      <td>NaN</td>\n",
       "      <td>Australia</td>\n",
       "      <td>574.103434</td>\n",
       "      <td>7.478883</td>\n",
       "      <td>559.445092</td>\n",
       "      <td>588.761775</td>\n",
       "    </tr>\n",
       "    <tr>\n",
       "      <th>2023-01-01</th>\n",
       "      <td>NaN</td>\n",
       "      <td>Australia</td>\n",
       "      <td>602.624060</td>\n",
       "      <td>11.598854</td>\n",
       "      <td>579.890724</td>\n",
       "      <td>625.357396</td>\n",
       "    </tr>\n",
       "    <tr>\n",
       "      <th>2024-01-01</th>\n",
       "      <td>NaN</td>\n",
       "      <td>Australia</td>\n",
       "      <td>632.624203</td>\n",
       "      <td>16.726846</td>\n",
       "      <td>599.840188</td>\n",
       "      <td>665.408217</td>\n",
       "    </tr>\n",
       "    <tr>\n",
       "      <th>2025-01-01</th>\n",
       "      <td>NaN</td>\n",
       "      <td>Australia</td>\n",
       "      <td>663.075274</td>\n",
       "      <td>23.036566</td>\n",
       "      <td>617.924434</td>\n",
       "      <td>708.226114</td>\n",
       "    </tr>\n",
       "  </tbody>\n",
       "</table>\n",
       "<p>1300 rows × 6 columns</p>\n",
       "</div>"
      ],
      "text/plain": [
       "            Anaemia_Num(Thousands) Country_name        mean    mean_se  \\\n",
       "2000-01-01               79563.801        China         NaN        NaN   \n",
       "2001-01-01               76520.032        China         NaN        NaN   \n",
       "2002-01-01               74488.868        China         NaN        NaN   \n",
       "2003-01-01               72780.049        China         NaN        NaN   \n",
       "2004-01-01               71106.276        China         NaN        NaN   \n",
       "...                            ...          ...         ...        ...   \n",
       "2021-01-01                     NaN    Australia  547.708922   4.059557   \n",
       "2022-01-01                     NaN    Australia  574.103434   7.478883   \n",
       "2023-01-01                     NaN    Australia  602.624060  11.598854   \n",
       "2024-01-01                     NaN    Australia  632.624203  16.726846   \n",
       "2025-01-01                     NaN    Australia  663.075274  23.036566   \n",
       "\n",
       "            mean_ci_lower  mean_ci_upper  \n",
       "2000-01-01            NaN            NaN  \n",
       "2001-01-01            NaN            NaN  \n",
       "2002-01-01            NaN            NaN  \n",
       "2003-01-01            NaN            NaN  \n",
       "2004-01-01            NaN            NaN  \n",
       "...                   ...            ...  \n",
       "2021-01-01     539.752336     555.665508  \n",
       "2022-01-01     559.445092     588.761775  \n",
       "2023-01-01     579.890724     625.357396  \n",
       "2024-01-01     599.840188     665.408217  \n",
       "2025-01-01     617.924434     708.226114  \n",
       "\n",
       "[1300 rows x 6 columns]"
      ]
     },
     "execution_count": 88,
     "metadata": {},
     "output_type": "execute_result"
    }
   ],
   "source": [
    "test_appended_df"
   ]
  },
  {
   "cell_type": "code",
   "execution_count": 80,
   "metadata": {},
   "outputs": [],
   "source": [
    "test_appended_df.to_csv(\"anaemia_forecast.csv\")"
   ]
  },
  {
   "cell_type": "markdown",
   "metadata": {},
   "source": [
    "#########################################################################################################"
   ]
  },
  {
   "cell_type": "markdown",
   "metadata": {},
   "source": [
    "# This was the test for one country input"
   ]
  },
  {
   "cell_type": "code",
   "execution_count": 81,
   "metadata": {},
   "outputs": [],
   "source": [
    "########################## CHOOSE COUNTRY ##########################\n",
    "country_input = \"Italy\"\n",
    "single_country_df = df[df[\"Country_name\"] == country_input]\n",
    "single_country_df = single_country_df[[\"Year\",\"Anaemia_Num(Thousands)\",\"Country_name\"]]\n",
    "country_df = single_country_df.reset_index(drop=True)\n",
    "country_df[\"Year\"]  = pd.to_datetime(country_df[\"Year\"].astype(str), format = \"%Y\")\n",
    "country_df.set_index(\"Year\", inplace=True)\n",
    "country_df_for_model = country_df[[\"Anaemia_Num(Thousands)\"]]"
   ]
  },
  {
   "cell_type": "markdown",
   "metadata": {},
   "source": [
    "#### FORECAST MODEL: ARIMA"
   ]
  },
  {
   "cell_type": "code",
   "execution_count": 84,
   "metadata": {},
   "outputs": [
    {
     "name": "stderr",
     "output_type": "stream",
     "text": [
      "C:\\Users\\Laura\\anaconda3\\envs\\pythondata2\\lib\\site-packages\\statsmodels\\tsa\\base\\tsa_model.py:471: ValueWarning: No frequency information was provided, so inferred frequency AS-JAN will be used.\n",
      "  self._init_dates(dates, freq)\n",
      "C:\\Users\\Laura\\anaconda3\\envs\\pythondata2\\lib\\site-packages\\statsmodels\\tsa\\base\\tsa_model.py:471: ValueWarning: No frequency information was provided, so inferred frequency AS-JAN will be used.\n",
      "  self._init_dates(dates, freq)\n",
      "C:\\Users\\Laura\\anaconda3\\envs\\pythondata2\\lib\\site-packages\\statsmodels\\tsa\\base\\tsa_model.py:471: ValueWarning: No frequency information was provided, so inferred frequency AS-JAN will be used.\n",
      "  self._init_dates(dates, freq)\n"
     ]
    }
   ],
   "source": [
    "model = ARIMA(country_df_for_model, order=(5,1,0))\n",
    "model_fit = model.fit()\n",
    "forecast_df = model_fit.get_forecast(6, alpha=0.05).summary_frame()\n",
    "# print(model_fit.summary())\n",
    "future_df = pd.concat([country_df,forecast_df])"
   ]
  },
  {
   "cell_type": "markdown",
   "metadata": {},
   "source": [
    "#### Plot model"
   ]
  },
  {
   "cell_type": "code",
   "execution_count": 85,
   "metadata": {},
   "outputs": [
    {
     "data": {
      "text/plain": [
       "Text(0.5, 1.0, 'Anaemic women in Italy')"
      ]
     },
     "execution_count": 85,
     "metadata": {},
     "output_type": "execute_result"
    },
    {
     "data": {
      "image/png": "[encoded data removed]",
      "text/plain": [
       "<Figure size 432x288 with 1 Axes>"
      ]
     },
     "metadata": {},
     "output_type": "display_data"
    }
   ],
   "source": [
    "#import seaborn as sns\n",
    "future_df[[\"Anaemia_Num(Thousands)\",\"mean\"]].plot()\n",
    "plt.style.use('fivethirtyeight')\n",
    "plt.fill_between(future_df.index, future_df[\"mean_ci_lower\"],future_df[\"mean_ci_upper\"], color='k',alpha=.15)\n",
    "plt.legend(['anaemic','forcast'])\n",
    "plt.ylabel('N. (thousands)')\n",
    "plt.title(f'Anaemic women in {country_input}')"
   ]
  },
  {
   "cell_type": "code",
   "execution_count": null,
   "metadata": {},
   "outputs": [],
   "source": []
  }
 ],
 "metadata": {
  "interpreter": {
   "hash": "1fc18f2d314b71246cdaeacbf5be85ffbc3bd384254613d1db63477b753ab41f"
  },
  "kernelspec": {
   "display_name": "Python 3.7.11 ('pythondata2')",
   "language": "python",
   "name": "python3"
  },
  "language_info": {
   "codemirror_mode": {
    "name": "ipython",
    "version": 3
   },
   "file_extension": ".py",
   "mimetype": "text/x-python",
   "name": "python",
   "nbconvert_exporter": "python",
   "pygments_lexer": "ipython3",
   "version": "3.7.11"
  },
  "orig_nbformat": 4
 },
 "nbformat": 4,
 "nbformat_minor": 2
}
