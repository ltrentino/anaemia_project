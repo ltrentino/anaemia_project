{
 "cells": [
  {
   "cell_type": "code",
   "execution_count": 1,
   "metadata": {},
   "outputs": [],
   "source": [
    "import pandas as pd \n",
    "import datetime as dt\n",
    "import pickle\n",
    "%matplotlib inline\n",
    "import matplotlib.pyplot as plt\n",
    "import numpy as np\n"
   ]
  },
  {
   "cell_type": "code",
   "execution_count": 2,
   "metadata": {},
   "outputs": [
    {
     "name": "stderr",
     "output_type": "stream",
     "text": [
      "C:\\Users\\Laura\\anaconda3\\envs\\pythondata2\\lib\\site-packages\\ipykernel_launcher.py:1: FutureWarning: The pandas.datetime class is deprecated and will be removed from pandas in a future version. Import from datetime module instead.\n",
      "  \"\"\"Entry point for launching an IPython kernel.\n"
     ]
    }
   ],
   "source": [
    "from pandas import datetime\n",
    "from pandas import read_csv\n",
    "from pandas import DataFrame\n",
    "from statsmodels.tsa.arima.model import ARIMA\n",
    "from matplotlib import pyplot, figure"
   ]
  },
  {
   "cell_type": "code",
   "execution_count": 3,
   "metadata": {},
   "outputs": [],
   "source": [
    "df = pd.read_csv(\"anaemia.csv\")\n"
   ]
  },
  {
   "cell_type": "code",
   "execution_count": 4,
   "metadata": {},
   "outputs": [],
   "source": [
    "countries = df[\"Country_name\"].unique()"
   ]
  },
  {
   "cell_type": "code",
   "execution_count": 5,
   "metadata": {},
   "outputs": [],
   "source": [
    "# list of top 30 countries by population (worldometer.com)\n",
    "top_30_countries = [\n",
    "    \"China\",\n",
    "    \"India\",\n",
    "    \"United States of America\",\n",
    "    \"Indonesia\",\n",
    "    \"Pakistan\",\n",
    "    \"Brazil\",\n",
    "    \"Nigeria\",\n",
    "    \"Bangladesh\",\n",
    "    \"Russian Federation\",\n",
    "    \"Mexico\",\n",
    "    \"Japan\",\n",
    "    \"Ethiopia\",\n",
    "    \"Philippines\",\n",
    "    \"Egypt\",\n",
    "    \"Viet Nam\",\n",
    "    \"Democratic Republic of the Congo\",\n",
    "    \"Iran (Islamic Republic of)\",\n",
    "    \"Germany\",\n",
    "    \"Thailand\",\n",
    "    \"United Kingdom of Great Britain and Northern Ireland\",\n",
    "    \"France\",\n",
    "    \"Italy\",\n",
    "    \"United Republic of Tanzania\",\n",
    "    \"South Africa\",\n",
    "    \"Myanmar\",\n",
    "    \"Kenya\",\n",
    "    \"Republic of Korea\",\n",
    "    \"Colombia\",\n",
    "    \"Spain\"\n",
    "]"
   ]
  },
  {
   "cell_type": "code",
   "execution_count": 6,
   "metadata": {},
   "outputs": [],
   "source": [
    "####### LOOP THROUGH EACH COUNTRY WITH THE ARIMA MODEL AND APPEND THE FORECAST DATA TO A NEW DF ###########"
   ]
  },
  {
   "cell_type": "code",
   "execution_count": 7,
   "metadata": {},
   "outputs": [],
   "source": [
    "test_appended_df = pd.DataFrame()"
   ]
  },
  {
   "cell_type": "code",
   "execution_count": null,
   "metadata": {},
   "outputs": [],
   "source": [
    "\n",
    "for i in top_30_countries:\n",
    "    print(i)\n",
    "    country_input = i\n",
    "    single_country_df = df[df[\"Country_name\"] == i]\n",
    "    single_country_df_clean = single_country_df[[\"Year\",\"Anaemia_Num(Thousands)\",\"Country_name\"]]\n",
    "    country_df = single_country_df_clean.reset_index(drop=True)\n",
    "    country_df[\"Year\"]  = pd.to_datetime(country_df[\"Year\"].astype(str), format = \"%Y\")\n",
    "    country_df.set_index(\"Year\", inplace=True)\n",
    "    country_df_for_model = country_df[[\"Anaemia_Num(Thousands)\"]]\n",
    "    model = ARIMA(country_df_for_model, order=(5,1,0))\n",
    "    model_fit = model.fit()\n",
    "    forecast_df = model_fit.get_forecast(5, alpha=0.05).summary_frame()\n",
    "    forecast_df[\"Country_name\"] = country_input\n",
    "    future_df = pd.concat([country_df,forecast_df])\n",
    "    test_appended_df = pd.concat([test_appended_df,future_df])\n",
    "\n"
   ]
  },
  {
   "cell_type": "code",
   "execution_count": 9,
   "metadata": {},
   "outputs": [
    {
     "data": {
      "text/html": [
       "<div>\n",
       "<style scoped>\n",
       "    .dataframe tbody tr th:only-of-type {\n",
       "        vertical-align: middle;\n",
       "    }\n",
       "\n",
       "    .dataframe tbody tr th {\n",
       "        vertical-align: top;\n",
       "    }\n",
       "\n",
       "    .dataframe thead th {\n",
       "        text-align: right;\n",
       "    }\n",
       "</style>\n",
       "<table border=\"1\" class=\"dataframe\">\n",
       "  <thead>\n",
       "    <tr style=\"text-align: right;\">\n",
       "      <th></th>\n",
       "      <th>Anaemia_Num(Thousands)</th>\n",
       "      <th>Country_name</th>\n",
       "      <th>mean</th>\n",
       "      <th>mean_se</th>\n",
       "      <th>mean_ci_lower</th>\n",
       "      <th>mean_ci_upper</th>\n",
       "    </tr>\n",
       "  </thead>\n",
       "  <tbody>\n",
       "    <tr>\n",
       "      <th>2000-01-01</th>\n",
       "      <td>79563.801</td>\n",
       "      <td>China</td>\n",
       "      <td>NaN</td>\n",
       "      <td>NaN</td>\n",
       "      <td>NaN</td>\n",
       "      <td>NaN</td>\n",
       "    </tr>\n",
       "    <tr>\n",
       "      <th>2001-01-01</th>\n",
       "      <td>76520.032</td>\n",
       "      <td>China</td>\n",
       "      <td>NaN</td>\n",
       "      <td>NaN</td>\n",
       "      <td>NaN</td>\n",
       "      <td>NaN</td>\n",
       "    </tr>\n",
       "    <tr>\n",
       "      <th>2002-01-01</th>\n",
       "      <td>74488.868</td>\n",
       "      <td>China</td>\n",
       "      <td>NaN</td>\n",
       "      <td>NaN</td>\n",
       "      <td>NaN</td>\n",
       "      <td>NaN</td>\n",
       "    </tr>\n",
       "    <tr>\n",
       "      <th>2003-01-01</th>\n",
       "      <td>72780.049</td>\n",
       "      <td>China</td>\n",
       "      <td>NaN</td>\n",
       "      <td>NaN</td>\n",
       "      <td>NaN</td>\n",
       "      <td>NaN</td>\n",
       "    </tr>\n",
       "    <tr>\n",
       "      <th>2004-01-01</th>\n",
       "      <td>71106.276</td>\n",
       "      <td>China</td>\n",
       "      <td>NaN</td>\n",
       "      <td>NaN</td>\n",
       "      <td>NaN</td>\n",
       "      <td>NaN</td>\n",
       "    </tr>\n",
       "    <tr>\n",
       "      <th>...</th>\n",
       "      <td>...</td>\n",
       "      <td>...</td>\n",
       "      <td>...</td>\n",
       "      <td>...</td>\n",
       "      <td>...</td>\n",
       "      <td>...</td>\n",
       "    </tr>\n",
       "    <tr>\n",
       "      <th>2020-01-01</th>\n",
       "      <td>NaN</td>\n",
       "      <td>Spain</td>\n",
       "      <td>1411.570668</td>\n",
       "      <td>3.810457</td>\n",
       "      <td>1404.102311</td>\n",
       "      <td>1419.039026</td>\n",
       "    </tr>\n",
       "    <tr>\n",
       "      <th>2021-01-01</th>\n",
       "      <td>NaN</td>\n",
       "      <td>Spain</td>\n",
       "      <td>1430.134329</td>\n",
       "      <td>10.624064</td>\n",
       "      <td>1409.311545</td>\n",
       "      <td>1450.957112</td>\n",
       "    </tr>\n",
       "    <tr>\n",
       "      <th>2022-01-01</th>\n",
       "      <td>NaN</td>\n",
       "      <td>Spain</td>\n",
       "      <td>1446.530020</td>\n",
       "      <td>18.511757</td>\n",
       "      <td>1410.247643</td>\n",
       "      <td>1482.812397</td>\n",
       "    </tr>\n",
       "    <tr>\n",
       "      <th>2023-01-01</th>\n",
       "      <td>NaN</td>\n",
       "      <td>Spain</td>\n",
       "      <td>1461.621132</td>\n",
       "      <td>27.607978</td>\n",
       "      <td>1407.510491</td>\n",
       "      <td>1515.731774</td>\n",
       "    </tr>\n",
       "    <tr>\n",
       "      <th>2024-01-01</th>\n",
       "      <td>NaN</td>\n",
       "      <td>Spain</td>\n",
       "      <td>1469.963250</td>\n",
       "      <td>38.124075</td>\n",
       "      <td>1395.241436</td>\n",
       "      <td>1544.685063</td>\n",
       "    </tr>\n",
       "  </tbody>\n",
       "</table>\n",
       "<p>725 rows × 6 columns</p>\n",
       "</div>"
      ],
      "text/plain": [
       "            Anaemia_Num(Thousands) Country_name         mean    mean_se  \\\n",
       "2000-01-01               79563.801        China          NaN        NaN   \n",
       "2001-01-01               76520.032        China          NaN        NaN   \n",
       "2002-01-01               74488.868        China          NaN        NaN   \n",
       "2003-01-01               72780.049        China          NaN        NaN   \n",
       "2004-01-01               71106.276        China          NaN        NaN   \n",
       "...                            ...          ...          ...        ...   \n",
       "2020-01-01                     NaN        Spain  1411.570668   3.810457   \n",
       "2021-01-01                     NaN        Spain  1430.134329  10.624064   \n",
       "2022-01-01                     NaN        Spain  1446.530020  18.511757   \n",
       "2023-01-01                     NaN        Spain  1461.621132  27.607978   \n",
       "2024-01-01                     NaN        Spain  1469.963250  38.124075   \n",
       "\n",
       "            mean_ci_lower  mean_ci_upper  \n",
       "2000-01-01            NaN            NaN  \n",
       "2001-01-01            NaN            NaN  \n",
       "2002-01-01            NaN            NaN  \n",
       "2003-01-01            NaN            NaN  \n",
       "2004-01-01            NaN            NaN  \n",
       "...                   ...            ...  \n",
       "2020-01-01    1404.102311    1419.039026  \n",
       "2021-01-01    1409.311545    1450.957112  \n",
       "2022-01-01    1410.247643    1482.812397  \n",
       "2023-01-01    1407.510491    1515.731774  \n",
       "2024-01-01    1395.241436    1544.685063  \n",
       "\n",
       "[725 rows x 6 columns]"
      ]
     },
     "execution_count": 9,
     "metadata": {},
     "output_type": "execute_result"
    }
   ],
   "source": [
    "test_appended_df"
   ]
  },
  {
   "cell_type": "code",
   "execution_count": 10,
   "metadata": {},
   "outputs": [],
   "source": [
    "test_appended_df.to_csv(\"anaemia_forecast.csv\")"
   ]
  },
  {
   "cell_type": "markdown",
   "metadata": {},
   "source": [
    "#########################################################################################################"
   ]
  },
  {
   "cell_type": "markdown",
   "metadata": {},
   "source": [
    "# This was the test for one country input"
   ]
  },
  {
   "cell_type": "code",
   "execution_count": 704,
   "metadata": {},
   "outputs": [],
   "source": [
    "########################### CHOOSE COUNTRY ##########################\n",
    "# country_input = \"Italy\"\n",
    "# single_country_df = df[df[\"Country_name\"] == country_input]\n",
    "# single_country_df = single_country_df[[\"Year\",\"Anaemia_Num(Thousands)\",\"Country_name\"]]\n",
    "# country_df = single_country_df.reset_index(drop=True)\n",
    "# country_df[\"Year\"]  = pd.to_datetime(country_df[\"Year\"].astype(str), format = \"%Y\")\n",
    "# country_df.set_index(\"Year\", inplace=True)\n",
    "# country_df_for_model = country_df[[\"Anaemia_Num(Thousands)\"]]"
   ]
  },
  {
   "cell_type": "markdown",
   "metadata": {},
   "source": [
    "#### FORECAST MODEL: ARIMA"
   ]
  },
  {
   "cell_type": "code",
   "execution_count": 706,
   "metadata": {},
   "outputs": [
    {
     "name": "stderr",
     "output_type": "stream",
     "text": [
      "C:\\Users\\Laura\\anaconda3\\envs\\pythondata2\\lib\\site-packages\\statsmodels\\tsa\\base\\tsa_model.py:471: ValueWarning: No frequency information was provided, so inferred frequency AS-JAN will be used.\n",
      "  self._init_dates(dates, freq)\n",
      "C:\\Users\\Laura\\anaconda3\\envs\\pythondata2\\lib\\site-packages\\statsmodels\\tsa\\base\\tsa_model.py:471: ValueWarning: No frequency information was provided, so inferred frequency AS-JAN will be used.\n",
      "  self._init_dates(dates, freq)\n",
      "C:\\Users\\Laura\\anaconda3\\envs\\pythondata2\\lib\\site-packages\\statsmodels\\tsa\\base\\tsa_model.py:471: ValueWarning: No frequency information was provided, so inferred frequency AS-JAN will be used.\n",
      "  self._init_dates(dates, freq)\n"
     ]
    }
   ],
   "source": [
    "# model = ARIMA(country_df_for_model, order=(5,1,0))\n",
    "# model_fit = model.fit()\n",
    "# forecast_df = model_fit.get_forecast(5, alpha=0.05).summary_frame()\n",
    "# # print(model_fit.summary())\n",
    "# future_df = pd.concat([country_df,forecast_df])"
   ]
  },
  {
   "cell_type": "markdown",
   "metadata": {},
   "source": [
    "#### Plot model"
   ]
  },
  {
   "cell_type": "code",
   "execution_count": 707,
   "metadata": {},
   "outputs": [
    {
     "data": {
      "text/plain": [
       "Text(0.5, 1.0, 'Anaemic women in Italy')"
      ]
     },
     "execution_count": 707,
     "metadata": {},
     "output_type": "execute_result"
    },
    {
     "data": {
      "image/png": "[encoded data removed]",
      "text/plain": [
       "<Figure size 432x288 with 1 Axes>"
      ]
     },
     "metadata": {},
     "output_type": "display_data"
    }
   ],
   "source": [
    "# #import seaborn as sns\n",
    "# future_df[[\"Anaemia_Num(Thousands)\",\"mean\"]].plot()\n",
    "# plt.style.use('fivethirtyeight')\n",
    "# plt.fill_between(future_df.index, future_df[\"mean_ci_lower\"],future_df[\"mean_ci_upper\"], color='k',alpha=.15)\n",
    "# plt.legend(['anaemic','forcast'])\n",
    "# plt.ylabel('N. (thousands)')\n",
    "# plt.title(f'Anaemic women in {country_input}')"
   ]
  }
 ],
 "metadata": {
  "interpreter": {
   "hash": "1fc18f2d314b71246cdaeacbf5be85ffbc3bd384254613d1db63477b753ab41f"
  },
  "kernelspec": {
   "display_name": "Python 3.7.11 ('pythondata2')",
   "language": "python",
   "name": "python3"
  },
  "language_info": {
   "codemirror_mode": {
    "name": "ipython",
    "version": 3
   },
   "file_extension": ".py",
   "mimetype": "text/x-python",
   "name": "python",
   "nbconvert_exporter": "python",
   "pygments_lexer": "ipython3",
   "version": "3.7.11"
  },
  "orig_nbformat": 4
 },
 "nbformat": 4,
 "nbformat_minor": 2
}
